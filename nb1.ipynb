{
 "cells": [
  {
   "cell_type": "code",
   "execution_count": 16,
   "metadata": {
    "scrolled": true
   },
   "outputs": [
    {
     "name": "stdout",
     "output_type": "stream",
     "text": [
      "Enter month:February\n",
      "Entered month is:\n",
      "February\n",
      "Enter year:2020\n",
      "This month has 29 days\n"
     ]
    }
   ],
   "source": [
    "a = input(\"Enter month:\")\n",
    "print(\"Entered month is:\") \n",
    "print(a)\n",
    "if a == \"January\" or a == \"March\" or a == \"May\" or a == \"July\" or a == \"August\" or a == \"October\" or a == \"December\":\n",
    "    print(\"This month has 31 days\")\n",
    "elif a == \"February\":\n",
    "    yr = int(input(\"Enter year:\"))\n",
    "    if yr % 4 == 0 and yr % 400 == 0 or yr % 100 != 0:\n",
    "        print(\"This month has 29 days\")\n",
    "    else:\n",
    "        print(\"This month has 28 days\")\n",
    "else:\n",
    "    print(\"This month has 30 days\")"
   ]
  },
  {
   "cell_type": "code",
   "execution_count": null,
   "metadata": {},
   "outputs": [],
   "source": []
  }
 ],
 "metadata": {
  "kernelspec": {
   "display_name": "Python 3",
   "language": "python",
   "name": "python3"
  },
  "language_info": {
   "codemirror_mode": {
    "name": "ipython",
    "version": 3
   },
   "file_extension": ".py",
   "mimetype": "text/x-python",
   "name": "python",
   "nbconvert_exporter": "python",
   "pygments_lexer": "ipython3",
   "version": "3.7.3"
  }
 },
 "nbformat": 4,
 "nbformat_minor": 2
}
