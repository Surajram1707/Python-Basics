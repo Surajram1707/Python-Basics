{
 "cells": [
  {
   "cell_type": "code",
   "execution_count": 9,
   "metadata": {},
   "outputs": [
    {
     "name": "stdout",
     "output_type": "stream",
     "text": [
      "Enter a:1000022587973735\n",
      "Enter b:3745937596\n",
      "Max is : 1000022587973735\n"
     ]
    }
   ],
   "source": [
    "def maximum(x,y):\n",
    "    return max(x,y)\n",
    "\n",
    "a = int(input(\"Enter a:\"))\n",
    "b = int(input(\"Enter b:\"))\n",
    "maxi = maximum(a,b)\n",
    "print(\"Max is : {}\".format(maxi))"
   ]
  },
  {
   "cell_type": "code",
   "execution_count": 12,
   "metadata": {},
   "outputs": [
    {
     "name": "stdout",
     "output_type": "stream",
     "text": [
      "Enter the number:15\n",
      "FizzBuzz\n"
     ]
    }
   ],
   "source": [
    "def fizz_buzz(x):\n",
    "    if(x % 3 == 0 and x % 5 != 0):\n",
    "        print(\"Fizz\")\n",
    "    elif(x % 5 == 0 and x % 3 != 0):\n",
    "        print(\"Buzz\")\n",
    "    elif(x % 3 == 0 and x % 5 == 0):\n",
    "        print(\"FizzBuzz\")\n",
    "    else:\n",
    "        print(\"Not divisible, The number is {}\".format(x))\n",
    "\n",
    "a = int(input(\"Enter the number:\"))\n",
    "fizz_buzz(a)"
   ]
  },
  {
   "cell_type": "code",
   "execution_count": 18,
   "metadata": {},
   "outputs": [
    {
     "name": "stdout",
     "output_type": "stream",
     "text": [
      "Enter speed:89\n",
      "Speed is: 89\n",
      "Points :6\n",
      "You will lose your license if you get 6 more points\n"
     ]
    }
   ],
   "source": [
    "def driver(speed):\n",
    "    if(speed < 70):\n",
    "        print(\"OK\")\n",
    "    else:\n",
    "        diff = speed - 70\n",
    "        points = diff / 3\n",
    "        print(\"Points :{}\".format(round(points)))\n",
    "        print(\"You will lose your license if you get {} more points\".format(round(12-points)))\n",
    "        if points > 12:\n",
    "            print(\"License suspended\")\n",
    "\n",
    "a = int(input(\"Enter speed:\"))\n",
    "print(\"Speed is: {}\".format(a))\n",
    "driver(a)"
   ]
  },
  {
   "cell_type": "code",
   "execution_count": 24,
   "metadata": {},
   "outputs": [
    {
     "name": "stdout",
     "output_type": "stream",
     "text": [
      "Enter limit:3\n",
      "Limit is 3\n",
      "0\n",
      "EVEN\n",
      "1\n",
      "ODD\n",
      "2\n",
      "EVEN\n",
      "3\n",
      "ODD\n"
     ]
    }
   ],
   "source": [
    "def check(x):\n",
    "    if(x % 2 == 0):\n",
    "        return(\"EVEN\")\n",
    "    else:\n",
    "        return(\"ODD\")\n",
    "    \n",
    "def showNumbers(limit):\n",
    "    for x in range(0,limit+1):\n",
    "        print(xSS)\n",
    "        print(\"{}\".format(check(x)))\n",
    "        \n",
    "\n",
    "a = int(input(\"Enter limit:\"))\n",
    "print(\"Limit is {}\".format(a))\n",
    "showNumbers(a)        \n",
    "        "
   ]
  },
  {
   "cell_type": "code",
   "execution_count": 33,
   "metadata": {},
   "outputs": [
    {
     "name": "stdout",
     "output_type": "stream",
     "text": [
      "Enter the limit:200\n",
      "Sum is:6633\n"
     ]
    }
   ],
   "source": [
    "def add(limit):\n",
    "    i = 0 \n",
    "    sum1 = 0\n",
    "    while i < limit:\n",
    "        sum1 += i\n",
    "        i += 3\n",
    "    print(\"Sum is:{}\".format(sum1))\n",
    "    \n",
    "a =int(input(\"Enter the limit:\"))\n",
    "add(a)"
   ]
  },
  {
   "cell_type": "code",
   "execution_count": 9,
   "metadata": {},
   "outputs": [
    {
     "name": "stdout",
     "output_type": "stream",
     "text": [
      "Enter number of rows:5\n",
      "*  \n",
      "*  *  \n",
      "*  *  *  \n",
      "*  *  *  *  \n",
      "*  *  *  *  *  \n"
     ]
    }
   ],
   "source": [
    "def show_stars(rows):\n",
    "    for i in range(0,rows):\n",
    "        for j in range(0,i+1):\n",
    "            print(\"* \",end=\" \")\n",
    "        print(\"\\r\")\n",
    "\n",
    "        \n",
    "a = int(input(\"Enter number of rows:\"))\n",
    "show_stars(a)"
   ]
  },
  {
   "cell_type": "code",
   "execution_count": 19,
   "metadata": {},
   "outputs": [
    {
     "name": "stdout",
     "output_type": "stream",
     "text": [
      "Enter limit:10\n",
      "2\n",
      "3\n",
      "5\n",
      "7\n"
     ]
    }
   ],
   "source": [
    "def prime(limit):\n",
    "    for num in range(1,limit + 1):\n",
    "        if num > 1:\n",
    "            for i in range(2,num):\n",
    "                if num % i == 0:\n",
    "                    break\n",
    "            else:\n",
    "                print(num)\n",
    "                    \n",
    "a = int(input(\"Enter limit:\"))\n",
    "prime(a)"
   ]
  },
  {
   "cell_type": "code",
   "execution_count": null,
   "metadata": {},
   "outputs": [],
   "source": []
  },
  {
   "cell_type": "code",
   "execution_count": null,
   "metadata": {},
   "outputs": [],
   "source": [
    "10"
   ]
  }
 ],
 "metadata": {
  "kernelspec": {
   "display_name": "Python 3",
   "language": "python",
   "name": "python3"
  },
  "language_info": {
   "codemirror_mode": {
    "name": "ipython",
    "version": 3
   },
   "file_extension": ".py",
   "mimetype": "text/x-python",
   "name": "python",
   "nbconvert_exporter": "python",
   "pygments_lexer": "ipython3",
   "version": "3.7.3"
  }
 },
 "nbformat": 4,
 "nbformat_minor": 2
}
