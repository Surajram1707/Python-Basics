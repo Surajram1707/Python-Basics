{
 "cells": [
  {
   "cell_type": "code",
   "execution_count": 3,
   "metadata": {},
   "outputs": [
    {
     "name": "stdout",
     "output_type": "stream",
     "text": [
      "Enter value of a:10\n",
      "Enter value of b:10\n",
      "Product is: 100\n"
     ]
    }
   ],
   "source": [
    "a = int(input(\"Enter value of a:\"))\n",
    "b = int(input(\"Enter value of b:\"))\n",
    "c = a * b\n",
    "if c <= 1000:\n",
    "    print(\"Product is: {}\".format(c))\n",
    "else:\n",
    "    print(\"Sum:{}\".format(a + b))"
   ]
  },
  {
   "cell_type": "code",
   "execution_count": 4,
   "metadata": {},
   "outputs": [
    {
     "name": "stdout",
     "output_type": "stream",
     "text": [
      "Enter the limit:10\n",
      "Current Number: 0 Previous Number: 0 Sum: 0\n",
      "Current Number: 1 Previous Number: 0 Sum: 1\n",
      "Current Number: 2 Previous Number: 1 Sum: 3\n",
      "Current Number: 3 Previous Number: 2 Sum: 5\n",
      "Current Number: 4 Previous Number: 3 Sum: 7\n",
      "Current Number: 5 Previous Number: 4 Sum: 9\n",
      "Current Number: 6 Previous Number: 5 Sum: 11\n",
      "Current Number: 7 Previous Number: 6 Sum: 13\n",
      "Current Number: 8 Previous Number: 7 Sum: 15\n",
      "Current Number: 9 Previous Number: 8 Sum: 17\n"
     ]
    }
   ],
   "source": [
    "def sumnum(num):\n",
    "    prev = 0\n",
    "    for i in range(num):\n",
    "        sum1 = prev + i\n",
    "        print(\"Current Number:\",i,\"Previous Number:\",prev,\"Sum:\",sum1)\n",
    "        prev = i\n",
    "        \n",
    "a = int(input(\"Enter the limit:\"))\n",
    "sumnum(a)"
   ]
  },
  {
   "cell_type": "code",
   "execution_count": 1,
   "metadata": {},
   "outputs": [
    {
     "name": "stdout",
     "output_type": "stream",
     "text": [
      "Enter String:pynative\n",
      "Original String is pynative\n",
      "Printing even Indexes\n",
      "index[ 0 ] p\n",
      "index[ 2 ] n\n",
      "index[ 4 ] t\n",
      "index[ 6 ] v\n"
     ]
    }
   ],
   "source": [
    "def disp(string):\n",
    "    for i in range(0,len(string)-1,2):\n",
    "        print(\"index[\",i,\"]\",string[i])\n",
    "        \n",
    "instr = input(\"Enter String:\")\n",
    "print(\"Original String is\",instr)\n",
    "print(\"Printing even Indexes\")\n",
    "disp(instr)"
   ]
  },
  {
   "cell_type": "code",
   "execution_count": 3,
   "metadata": {},
   "outputs": [
    {
     "name": "stdout",
     "output_type": "stream",
     "text": [
      "Enter String:surajram\n",
      "Enter the number of chars to remove4\n"
     ]
    },
    {
     "data": {
      "text/plain": [
       "'jram'"
      ]
     },
     "execution_count": 3,
     "metadata": {},
     "output_type": "execute_result"
    }
   ],
   "source": [
    "def remchar(string,n):\n",
    "    return string[n:]\n",
    "\n",
    "a = input(\"Enter String:\")\n",
    "b = int(input(\"Enter the number of chars to remove\"))\n",
    "remchar(a,b)"
   ]
  },
  {
   "cell_type": "code",
   "execution_count": null,
   "metadata": {},
   "outputs": [],
   "source": []
  },
  {
   "cell_type": "code",
   "execution_count": null,
   "metadata": {},
   "outputs": [],
   "source": []
  }
 ],
 "metadata": {
  "kernelspec": {
   "display_name": "Python 3",
   "language": "python",
   "name": "python3"
  },
  "language_info": {
   "codemirror_mode": {
    "name": "ipython",
    "version": 3
   },
   "file_extension": ".py",
   "mimetype": "text/x-python",
   "name": "python",
   "nbconvert_exporter": "python",
   "pygments_lexer": "ipython3",
   "version": "3.7.3"
  }
 },
 "nbformat": 4,
 "nbformat_minor": 2
}
