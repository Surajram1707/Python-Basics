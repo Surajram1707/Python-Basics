{
 "cells": [
  {
   "cell_type": "code",
   "execution_count": 9,
   "metadata": {},
   "outputs": [
    {
     "name": "stdout",
     "output_type": "stream",
     "text": [
      "Enter a number:5\n",
      "Factorial of 5  is  120\n"
     ]
    }
   ],
   "source": [
    "def fact(n):\n",
    "    if (n == 0 or n == 1):\n",
    "        return 1\n",
    "    else:\n",
    "         return n * fact(n-1)\n",
    "        \n",
    "a = int(input(\"Enter a number:\"))\n",
    "print(\"Factorial of\",a,\" is \",fact(a))"
   ]
  },
  {
   "cell_type": "code",
   "execution_count": 13,
   "metadata": {},
   "outputs": [
    {
     "name": "stdout",
     "output_type": "stream",
     "text": [
      "Enter the number:153\n",
      "The number is not Armstrong\n"
     ]
    }
   ],
   "source": [
    "def armstrong(n):\n",
    "    sum1 = 0\n",
    "    while(n != 0):\n",
    "        b = n % 10\n",
    "        sum1 = sum1 + b * b * b\n",
    "        n = n / 10\n",
    "        \n",
    "    if(sum1 == n):\n",
    "        print(\"The number is Armstrong\")\n",
    "    else:\n",
    "        print(\"The number is not Armstrong\")\n",
    "    \n",
    "a = int(input(\"Enter the number:\"))\n",
    "armstrong(a)"
   ]
  },
  {
   "cell_type": "code",
   "execution_count": null,
   "metadata": {},
   "outputs": [],
   "source": []
  }
 ],
 "metadata": {
  "kernelspec": {
   "display_name": "Python 3",
   "language": "python",
   "name": "python3"
  },
  "language_info": {
   "codemirror_mode": {
    "name": "ipython",
    "version": 3
   },
   "file_extension": ".py",
   "mimetype": "text/x-python",
   "name": "python",
   "nbconvert_exporter": "python",
   "pygments_lexer": "ipython3",
   "version": "3.7.3"
  }
 },
 "nbformat": 4,
 "nbformat_minor": 2
}
