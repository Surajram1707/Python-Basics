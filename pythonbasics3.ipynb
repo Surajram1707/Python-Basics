{
 "cells": [
  {
   "cell_type": "code",
   "execution_count": 2,
   "metadata": {},
   "outputs": [
    {
     "name": "stdout",
     "output_type": "stream",
     "text": [
      "Given list [10, 20, 30, 40, 10]\n",
      "Result is True\n"
     ]
    }
   ],
   "source": [
    "def frstandlast(list1):\n",
    "    print(\"Given list\",list1)\n",
    "    frst = list1[0]\n",
    "    last = list1[-1]\n",
    "    if(frst == last):\n",
    "        return True\n",
    "    else:\n",
    "        return False\n",
    "\n",
    "list1 = [10,20,30,40,10]\n",
    "print(\"Result is\",frstandlast(list1))"
   ]
  },
  {
   "cell_type": "code",
   "execution_count": 4,
   "metadata": {},
   "outputs": [
    {
     "name": "stdout",
     "output_type": "stream",
     "text": [
      "Divisible by 5\n",
      "10\n",
      "15\n",
      "20\n"
     ]
    }
   ],
   "source": [
    "def div(list1):Suraj\n",
    "    for i in list1:\n",
    "        if(i % 5 == 0):\n",
    "            print(i)\n",
    "\n",
    "list1 = [10,2,13,15,20]\n",
    "print(\"Divisible by 5\")\n",
    "div(list1)"
   ]
  },
  {
   "cell_type": "code",
   "execution_count": 9,
   "metadata": {},
   "outputs": [
    {
     "name": "stdout",
     "output_type": "stream",
     "text": [
      "Enter a sentence:he he he is is a bad boy\n",
      "Enter string to count:he\n",
      "he has appeared 3 times\n"
     ]
    }
   ],
   "source": [
    "def cnt(string1,string2):\n",
    "    cont = string1.count(string2)\n",
    "    print(string2,\"has appeared\",cont,\"times\")\n",
    "\n",
    "sampstr = input(\"Enter a sentence:\")\n",
    "sampstr1 = input(\"Enter string to count:\")\n",
    "cnt(sampstr,sampstr1)"
   ]
  },
  {
   "cell_type": "code",
   "execution_count": null,
   "metadata": {},
   "outputs": [],
   "source": []
  }
 ],
 "metadata": {
  "kernelspec": {
   "display_name": "Python 3",
   "language": "python",
   "name": "python3"
  },
  "language_info": {
   "codemirror_mode": {
    "name": "ipython",
    "version": 3
   },
   "file_extension": ".py",
   "mimetype": "text/x-python",
   "name": "python",
   "nbconvert_exporter": "python",
   "pygments_lexer": "ipython3",
   "version": "3.7.3"
  }
 },
 "nbformat": 4,
 "nbformat_minor": 2
}
